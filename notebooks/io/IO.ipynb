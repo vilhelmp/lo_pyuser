{
 "metadata": {
  "name": ""
 },
 "nbformat": 3,
 "nbformat_minor": 0,
 "worksheets": [
  {
   "cells": [
    {
     "cell_type": "code",
     "collapsed": false,
     "input": [
      "import astropy.io.ascii as ascii\n",
      "from numpy import arange"
     ],
     "language": "python",
     "metadata": {},
     "outputs": [],
     "prompt_number": 15
    },
    {
     "cell_type": "code",
     "collapsed": false,
     "input": [
      "data = ascii.read('data.dat')"
     ],
     "language": "python",
     "metadata": {},
     "outputs": [],
     "prompt_number": 3
    },
    {
     "cell_type": "code",
     "collapsed": false,
     "input": [
      "data[:10]"
     ],
     "language": "python",
     "metadata": {},
     "outputs": [
      {
       "html": [
        "&lt;Table masked=False length=10&gt;\n",
        "<table id=\"table140595434898640\">\n",
        "<thead><tr><th>col1</th><th>col2</th><th>col3</th><th>col4</th></tr></thead>\n",
        "<thead><tr><th>int64</th><th>float64</th><th>float64</th><th>string40</th></tr></thead>\n",
        "<tr><td>1</td><td>0.0</td><td>1.0</td><td>0_0_0</td></tr>\n",
        "<tr><td>2</td><td>15.5082</td><td>3.0</td><td>1_0_1</td></tr>\n",
        "<tr><td>3</td><td>29.8086</td><td>3.0</td><td>1_1_1</td></tr>\n",
        "<tr><td>4</td><td>32.4964</td><td>3.0</td><td>1_1_0</td></tr>\n",
        "<tr><td>5</td><td>46.1731</td><td>5.0</td><td>2_0_2</td></tr>\n",
        "<tr><td>6</td><td>58.1269</td><td>5.0</td><td>2_1_2</td></tr>\n",
        "<tr><td>7</td><td>66.1845</td><td>5.0</td><td>2_1_1</td></tr>\n",
        "<tr><td>8</td><td>91.3302</td><td>7.0</td><td>3_0_3</td></tr>\n",
        "<tr><td>9</td><td>100.3909</td><td>7.0</td><td>3_1_3</td></tr>\n",
        "<tr><td>10</td><td>108.9262</td><td>5.0</td><td>2_2_1</td></tr>\n",
        "</table>"
       ],
       "metadata": {},
       "output_type": "pyout",
       "prompt_number": 4,
       "text": [
        "<Table masked=False length=10>\n",
        " col1   col2     col3    col4  \n",
        "int64 float64  float64 string40\n",
        "----- -------- ------- --------\n",
        "    1      0.0     1.0    0_0_0\n",
        "    2  15.5082     3.0    1_0_1\n",
        "    3  29.8086     3.0    1_1_1\n",
        "    4  32.4964     3.0    1_1_0\n",
        "    5  46.1731     5.0    2_0_2\n",
        "    6  58.1269     5.0    2_1_2\n",
        "    7  66.1845     5.0    2_1_1\n",
        "    8  91.3302     7.0    3_0_3\n",
        "    9 100.3909     7.0    3_1_3\n",
        "   10 108.9262     5.0    2_2_1"
       ]
      }
     ],
     "prompt_number": 4
    },
    {
     "cell_type": "code",
     "collapsed": false,
     "input": [
      "text = ['{0[0]} & {0[1]} & {0[2]} \\\\ \\n'.format(i) for i in data[:10]]\n",
      "text"
     ],
     "language": "python",
     "metadata": {},
     "outputs": [
      {
       "metadata": {},
       "output_type": "pyout",
       "prompt_number": 10,
       "text": [
        "['1 & 0.0 & 1.0 \\\\ \\n',\n",
        " '2 & 15.5082 & 3.0 \\\\ \\n',\n",
        " '3 & 29.8086 & 3.0 \\\\ \\n',\n",
        " '4 & 32.4964 & 3.0 \\\\ \\n',\n",
        " '5 & 46.1731 & 5.0 \\\\ \\n',\n",
        " '6 & 58.1269 & 5.0 \\\\ \\n',\n",
        " '7 & 66.1845 & 5.0 \\\\ \\n',\n",
        " '8 & 91.3302 & 7.0 \\\\ \\n',\n",
        " '9 & 100.3909 & 7.0 \\\\ \\n',\n",
        " '10 & 108.9262 & 5.0 \\\\ \\n']"
       ]
      }
     ],
     "prompt_number": 10
    },
    {
     "cell_type": "code",
     "collapsed": false,
     "input": [
      "f_handle = open('test.tex','w')\n",
      "f_handle.writelines(text)\n",
      "f_handle.close()"
     ],
     "language": "python",
     "metadata": {},
     "outputs": [],
     "prompt_number": 6
    },
    {
     "cell_type": "code",
     "collapsed": false,
     "input": [
      "text = ['{0} & {1[1]} & {1[2]} \\\\ \\n'.format(h,i) for h,i in zip(arange(len(data[:10]))+10,data[:10])]\n",
      "text"
     ],
     "language": "python",
     "metadata": {},
     "outputs": [
      {
       "metadata": {},
       "output_type": "pyout",
       "prompt_number": 16,
       "text": [
        "['10 & 0.0 & 1.0 \\\\ \\n',\n",
        " '11 & 15.5082 & 3.0 \\\\ \\n',\n",
        " '12 & 29.8086 & 3.0 \\\\ \\n',\n",
        " '13 & 32.4964 & 3.0 \\\\ \\n',\n",
        " '14 & 46.1731 & 5.0 \\\\ \\n',\n",
        " '15 & 58.1269 & 5.0 \\\\ \\n',\n",
        " '16 & 66.1845 & 5.0 \\\\ \\n',\n",
        " '17 & 91.3302 & 7.0 \\\\ \\n',\n",
        " '18 & 100.3909 & 7.0 \\\\ \\n',\n",
        " '19 & 108.9262 & 5.0 \\\\ \\n']"
       ]
      }
     ],
     "prompt_number": 16
    },
    {
     "cell_type": "code",
     "collapsed": false,
     "input": [],
     "language": "python",
     "metadata": {},
     "outputs": [],
     "prompt_number": 6
    },
    {
     "cell_type": "code",
     "collapsed": false,
     "input": [],
     "language": "python",
     "metadata": {},
     "outputs": [],
     "prompt_number": 6
    },
    {
     "cell_type": "code",
     "collapsed": false,
     "input": [],
     "language": "python",
     "metadata": {},
     "outputs": [],
     "prompt_number": 6
    },
    {
     "cell_type": "code",
     "collapsed": false,
     "input": [],
     "language": "python",
     "metadata": {},
     "outputs": [],
     "prompt_number": 6
    }
   ],
   "metadata": {}
  }
 ]
}