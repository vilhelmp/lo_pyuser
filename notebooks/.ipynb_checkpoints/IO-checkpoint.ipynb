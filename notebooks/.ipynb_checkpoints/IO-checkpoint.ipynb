{
 "metadata": {
  "name": ""
 },
 "nbformat": 3,
 "nbformat_minor": 0,
 "worksheets": [
  {
   "cells": [
    {
     "cell_type": "code",
     "collapsed": false,
     "input": [
      "import astropy.io.ascii as ascii\n"
     ],
     "language": "python",
     "metadata": {},
     "outputs": [],
     "prompt_number": 1
    },
    {
     "cell_type": "code",
     "collapsed": false,
     "input": [
      "data = ascii.read('io/data.dat')"
     ],
     "language": "python",
     "metadata": {},
     "outputs": [],
     "prompt_number": 5
    },
    {
     "cell_type": "code",
     "collapsed": false,
     "input": [
      "d[0]"
     ],
     "language": "python",
     "metadata": {},
     "outputs": [
      {
       "metadata": {},
       "output_type": "pyout",
       "prompt_number": 29,
       "text": [
        "1"
       ]
      }
     ],
     "prompt_number": 29
    },
    {
     "cell_type": "code",
     "collapsed": false,
     "input": [
      "text = ['{0[0]} & {0[1]} & {0[2]} \\\\ \\n'.format(i) for i in data[:10]]\n",
      "text"
     ],
     "language": "python",
     "metadata": {},
     "outputs": [],
     "prompt_number": "*"
    },
    {
     "cell_type": "code",
     "collapsed": false,
     "input": [],
     "language": "python",
     "metadata": {},
     "outputs": [],
     "prompt_number": "*"
    },
    {
     "cell_type": "code",
     "collapsed": false,
     "input": [
      "f_handle = open('io/test.tex','w')"
     ],
     "language": "python",
     "metadata": {},
     "outputs": [],
     "prompt_number": 44
    },
    {
     "cell_type": "code",
     "collapsed": false,
     "input": [
      "f_handle.writelines(text)l"
     ],
     "language": "python",
     "metadata": {},
     "outputs": [],
     "prompt_number": 45
    },
    {
     "cell_type": "code",
     "collapsed": false,
     "input": [
      "f_handle.close()"
     ],
     "language": "python",
     "metadata": {},
     "outputs": [],
     "prompt_number": 46
    },
    {
     "cell_type": "code",
     "collapsed": false,
     "input": [],
     "language": "python",
     "metadata": {},
     "outputs": [
      {
       "output_type": "stream",
       "stream": "stdout",
       "text": [
        "/home/magnusp/dotfiles/.lessfilter: 18: /home/magnusp/dotfiles/.lessfilter: [[: not found\r\n",
        "\u001b7\u001b[?47h\u001b[?1h\u001b=\r",
        "1 & 0.0 & 1.0 \\ \u001b[m\r\n",
        "2 & 15.5082 & 3.0 \\ \u001b[m\r\n",
        "3 & 29.8086 & 3.0 \\ \u001b[m\r\n",
        "4 & 32.4964 & 3.0 \\ \u001b[m\r\n",
        "5 & 46.1731 & 5.0 \\ \u001b[m\r\n",
        "6 & 58.1269 & 5.0 \\ \u001b[m\r\n",
        "7 & 66.1845 & 5.0 \\ \u001b[m\r\n",
        "8 & 91.3302 & 7.0 \\ \u001b[m\r\n",
        "9 & 100.3909 & 7.0 \\ \u001b[m\r\n",
        "10 & 108.9262 & 5.0 \\ \u001b[m\r\n",
        "\u001b[38;5;246mio/test.tex (END)\u001b[0m\u001b[K"
       ]
      }
     ],
     "prompt_number": "*"
    },
    {
     "cell_type": "code",
     "collapsed": false,
     "input": [],
     "language": "python",
     "metadata": {},
     "outputs": []
    }
   ],
   "metadata": {}
  }
 ]
}